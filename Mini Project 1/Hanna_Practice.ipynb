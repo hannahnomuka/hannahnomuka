{
  "nbformat": 4,
  "nbformat_minor": 0,
  "metadata": {
    "colab": {
      "provenance": [],
      "include_colab_link": true
    },
    "kernelspec": {
      "name": "python3",
      "display_name": "Python 3"
    },
    "language_info": {
      "name": "python"
    }
  },
  "cells": [
    {
      "cell_type": "markdown",
      "metadata": {
        "id": "view-in-github",
        "colab_type": "text"
      },
      "source": [
        "<a href=\"https://colab.research.google.com/github/hannahnomuka/hannahnomuka/blob/main/Mini%20Project%201/Hanna_Practice.ipynb\" target=\"_parent\"><img src=\"https://colab.research.google.com/assets/colab-badge.svg\" alt=\"Open In Colab\"/></a>"
      ]
    },
    {
      "cell_type": "markdown",
      "source": [
        "# Merge Tables\n"
      ],
      "metadata": {
        "id": "NNpzcNqt0GLF"
      }
    },
    {
      "cell_type": "code",
      "source": [
        "data1 = {\n",
        "    'Name': ['Emma', 'Oliver', 'Ava'],\n",
        "    'Grade': [45, 90, 21],\n",
        "    'id': [1, 2,3]\n",
        "}\n",
        "\n",
        "data2 = {\n",
        "    'Name': ['Emma', 'Oliver', 'Lucas'],\n",
        "    'Age': [10, 12, 10],\n",
        "    'id': [1, 2,4]\n",
        "}"
      ],
      "metadata": {
        "id": "MjO6zeDrZiJ6"
      },
      "execution_count": 7,
      "outputs": []
    },
    {
      "cell_type": "code",
      "source": [
        "print(data1['Name'])"
      ],
      "metadata": {
        "colab": {
          "base_uri": "https://localhost:8080/"
        },
        "id": "piO-lpP6alPr",
        "outputId": "cb9ab622-38a8-4533-e7d9-10c22042e1fe"
      },
      "execution_count": 8,
      "outputs": [
        {
          "output_type": "stream",
          "name": "stdout",
          "text": [
            "['Emma', 'Oliver', 'Ava']\n"
          ]
        }
      ]
    },
    {
      "cell_type": "code",
      "source": [
        "print(data2['Name'])"
      ],
      "metadata": {
        "colab": {
          "base_uri": "https://localhost:8080/"
        },
        "id": "wr0swexPbuOP",
        "outputId": "6487fe93-2b18-4420-d97b-20eca94516d3"
      },
      "execution_count": 9,
      "outputs": [
        {
          "output_type": "stream",
          "name": "stdout",
          "text": [
            "['Emma', 'Oliver', 'Lucas']\n"
          ]
        }
      ]
    },
    {
      "cell_type": "markdown",
      "source": [
        "# Print Grade from data1 dictionary"
      ],
      "metadata": {
        "id": "aeZMdt4ZaRaL"
      }
    },
    {
      "cell_type": "code",
      "source": [],
      "metadata": {
        "id": "V20qSQQMamy4"
      },
      "execution_count": 9,
      "outputs": []
    },
    {
      "cell_type": "code",
      "source": [
        "data2['id']"
      ],
      "metadata": {
        "colab": {
          "base_uri": "https://localhost:8080/"
        },
        "id": "coNBvyZHVHEi",
        "outputId": "a72c255a-52a8-4c46-8295-005efe4cb0b2"
      },
      "execution_count": 10,
      "outputs": [
        {
          "output_type": "execute_result",
          "data": {
            "text/plain": [
              "[1, 2, 4]"
            ]
          },
          "metadata": {},
          "execution_count": 10
        }
      ]
    },
    {
      "cell_type": "code",
      "source": [
        "data2['Age']"
      ],
      "metadata": {
        "colab": {
          "base_uri": "https://localhost:8080/"
        },
        "id": "ThSKa6ehVdbD",
        "outputId": "6586bfa8-fe32-470b-e159-98b177380605"
      },
      "execution_count": 11,
      "outputs": [
        {
          "output_type": "execute_result",
          "data": {
            "text/plain": [
              "[10, 12, 10]"
            ]
          },
          "metadata": {},
          "execution_count": 11
        }
      ]
    },
    {
      "cell_type": "code",
      "source": [
        "# Complete the following code\n",
        "\n",
        "for age in data2 ['Age']:\n",
        "  print(age)"
      ],
      "metadata": {
        "colab": {
          "base_uri": "https://localhost:8080/"
        },
        "id": "pTg_uPlWV2ba",
        "outputId": "d127fdcf-404f-4086-a448-ce73bfdd95ae"
      },
      "execution_count": 19,
      "outputs": [
        {
          "output_type": "stream",
          "name": "stdout",
          "text": [
            "10\n",
            "12\n",
            "10\n"
          ]
        }
      ]
    },
    {
      "cell_type": "code",
      "source": [
        "# Complete the following code\n",
        "\n",
        "for name in data1['Name']:\n",
        "  print(name)"
      ],
      "metadata": {
        "id": "-__R6FMFbCF5",
        "outputId": "1a55b0cf-7ab6-405f-d0fb-663c808e96a7",
        "colab": {
          "base_uri": "https://localhost:8080/"
        }
      },
      "execution_count": 20,
      "outputs": [
        {
          "output_type": "stream",
          "name": "stdout",
          "text": [
            "Emma\n",
            "Oliver\n",
            "Ava\n"
          ]
        }
      ]
    },
    {
      "cell_type": "markdown",
      "source": [
        "# Homework"
      ],
      "metadata": {
        "id": "qb8mvHSOinaL"
      }
    },
    {
      "cell_type": "code",
      "source": [
        "for name in data1['Name']:\n",
        "  print(name)"
      ],
      "metadata": {
        "id": "S73Nl83BbMKj",
        "colab": {
          "base_uri": "https://localhost:8080/"
        },
        "outputId": "6c69ae66-4e61-4a5b-f92d-402086da4ac9"
      },
      "execution_count": 22,
      "outputs": [
        {
          "output_type": "stream",
          "name": "stdout",
          "text": [
            "Emma\n",
            "Oliver\n",
            "Ava\n"
          ]
        }
      ]
    },
    {
      "cell_type": "code",
      "source": [
        "for age in data2['Age']:\n",
        "  print (f'{age} year old')\n"
      ],
      "metadata": {
        "id": "YSXU-IMkh9xs",
        "outputId": "c9b266f9-713f-4218-8bec-af2bfaf3a3d5",
        "colab": {
          "base_uri": "https://localhost:8080/"
        }
      },
      "execution_count": 28,
      "outputs": [
        {
          "output_type": "stream",
          "name": "stdout",
          "text": [
            "10 year old\n",
            "12 year old\n",
            "10 year old\n"
          ]
        }
      ]
    },
    {
      "cell_type": "code",
      "source": [
        "# Complete the following code using data2\n",
        "for i in data2 ['id'] :\n",
        "  print(i)"
      ],
      "metadata": {
        "id": "eWTfDlr4iU8Z",
        "outputId": "afeb2175-7174-41ba-d5cf-74c83934bc64",
        "colab": {
          "base_uri": "https://localhost:8080/"
        }
      },
      "execution_count": 31,
      "outputs": [
        {
          "output_type": "stream",
          "name": "stdout",
          "text": [
            "1\n",
            "2\n",
            "4\n"
          ]
        }
      ]
    },
    {
      "cell_type": "code",
      "source": [
        "# Complete the following code using data2\n",
        "\n",
        "print(i)"
      ],
      "metadata": {
        "id": "j5wo5NWmi3Id",
        "outputId": "e37bc886-dae1-4c9c-9ed3-71d4a33391f6",
        "colab": {
          "base_uri": "https://localhost:8080/"
        }
      },
      "execution_count": 33,
      "outputs": [
        {
          "output_type": "stream",
          "name": "stdout",
          "text": [
            "4\n"
          ]
        }
      ]
    },
    {
      "cell_type": "code",
      "source": [],
      "metadata": {
        "id": "eonmPrmDi3h6"
      },
      "execution_count": null,
      "outputs": []
    }
  ]
}