{
  "nbformat": 4,
  "nbformat_minor": 0,
  "metadata": {
    "colab": {
      "provenance": [],
      "include_colab_link": true
    },
    "kernelspec": {
      "name": "python3",
      "display_name": "Python 3"
    },
    "language_info": {
      "name": "python"
    }
  },
  "cells": [
    {
      "cell_type": "markdown",
      "metadata": {
        "id": "view-in-github",
        "colab_type": "text"
      },
      "source": [
        "<a href=\"https://colab.research.google.com/github/hannahnomuka/hannahnomuka/blob/main/Mini%20Project%201/Hanna_Practice.ipynb\" target=\"_parent\"><img src=\"https://colab.research.google.com/assets/colab-badge.svg\" alt=\"Open In Colab\"/></a>"
      ]
    },
    {
      "cell_type": "markdown",
      "source": [
        "# Merge Tables\n"
      ],
      "metadata": {
        "id": "NNpzcNqt0GLF"
      }
    },
    {
      "cell_type": "code",
      "source": [
        "data1 = {\n",
        "    'Name': ['Emma', 'Oliver', 'Ava'],\n",
        "    'Grade': [45, 90, 21],\n",
        "    'id': [1, 2,3]\n",
        "}\n",
        "\n",
        "data2 = {\n",
        "    'Name': ['Emma', 'Oliver', 'Lucas'],\n",
        "    'Age': [10, 12, 10],\n",
        "    'id': [1, 2,4]\n",
        "}"
      ],
      "metadata": {
        "id": "MjO6zeDrZiJ6"
      },
      "execution_count": 6,
      "outputs": []
    },
    {
      "cell_type": "code",
      "source": [
        "print(data1['Name'])"
      ],
      "metadata": {
        "colab": {
          "base_uri": "https://localhost:8080/"
        },
        "id": "piO-lpP6alPr",
        "outputId": "defeff38-e7bb-4441-fd38-e4e138d9e86a"
      },
      "execution_count": 7,
      "outputs": [
        {
          "output_type": "stream",
          "name": "stdout",
          "text": [
            "['Emma', 'Oliver', 'Ava']\n"
          ]
        }
      ]
    },
    {
      "cell_type": "markdown",
      "source": [
        "# Print Grade from data1 dictionary"
      ],
      "metadata": {
        "id": "aeZMdt4ZaRaL"
      }
    },
    {
      "cell_type": "code",
      "source": [],
      "metadata": {
        "id": "V20qSQQMamy4"
      },
      "execution_count": 7,
      "outputs": []
    },
    {
      "cell_type": "code",
      "source": [
        "data2['id']"
      ],
      "metadata": {
        "colab": {
          "base_uri": "https://localhost:8080/"
        },
        "id": "coNBvyZHVHEi",
        "outputId": "684a7844-6ea9-43b3-f7e5-0c2cc73234ea"
      },
      "execution_count": 8,
      "outputs": [
        {
          "output_type": "execute_result",
          "data": {
            "text/plain": [
              "[1, 2, 4]"
            ]
          },
          "metadata": {},
          "execution_count": 8
        }
      ]
    },
    {
      "cell_type": "code",
      "source": [
        "data2['Age']"
      ],
      "metadata": {
        "colab": {
          "base_uri": "https://localhost:8080/"
        },
        "id": "ThSKa6ehVdbD",
        "outputId": "ed18eb10-6da4-4c86-fdd0-95956b020f5b"
      },
      "execution_count": 9,
      "outputs": [
        {
          "output_type": "execute_result",
          "data": {
            "text/plain": [
              "[10, 12, 10]"
            ]
          },
          "metadata": {},
          "execution_count": 9
        }
      ]
    },
    {
      "cell_type": "code",
      "source": [
        "# Complete the following code\n",
        "\n",
        "for age in data2:\n",
        "  print(age)"
      ],
      "metadata": {
        "colab": {
          "base_uri": "https://localhost:8080/"
        },
        "id": "pTg_uPlWV2ba",
        "outputId": "8231072e-c6f3-4cca-91a8-21ad0bbddab1"
      },
      "execution_count": 13,
      "outputs": [
        {
          "output_type": "stream",
          "name": "stdout",
          "text": [
            "Name\n",
            "Age\n",
            "id\n"
          ]
        }
      ]
    },
    {
      "cell_type": "code",
      "source": [
        "# Complete the following code\n",
        "\n",
        "for name in data1['Name']:\n",
        "  print(name)"
      ],
      "metadata": {
        "id": "-__R6FMFbCF5",
        "outputId": "56b4c037-3cf9-4e15-dc56-5c2faf8e30b9",
        "colab": {
          "base_uri": "https://localhost:8080/"
        }
      },
      "execution_count": 17,
      "outputs": [
        {
          "output_type": "stream",
          "name": "stdout",
          "text": [
            "Emma\n",
            "Oliver\n",
            "Ava\n"
          ]
        }
      ]
    },
    {
      "cell_type": "code",
      "source": [],
      "metadata": {
        "id": "S73Nl83BbMKj"
      },
      "execution_count": null,
      "outputs": []
    }
  ]
}