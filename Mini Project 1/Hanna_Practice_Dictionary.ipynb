{
  "nbformat": 4,
  "nbformat_minor": 0,
  "metadata": {
    "colab": {
      "provenance": [],
      "include_colab_link": true
    },
    "kernelspec": {
      "name": "python3",
      "display_name": "Python 3"
    },
    "language_info": {
      "name": "python"
    }
  },
  "cells": [
    {
      "cell_type": "markdown",
      "metadata": {
        "id": "view-in-github",
        "colab_type": "text"
      },
      "source": [
        "<a href=\"https://colab.research.google.com/github/hannahnomuka/hannahnomuka/blob/main/Mini%20Project%201/Hanna_Practice_Dictionary.ipynb\" target=\"_parent\"><img src=\"https://colab.research.google.com/assets/colab-badge.svg\" alt=\"Open In Colab\"/></a>"
      ]
    },
    {
      "cell_type": "markdown",
      "source": [
        "# Merge Tables\n"
      ],
      "metadata": {
        "id": "NNpzcNqt0GLF"
      }
    },
    {
      "cell_type": "code",
      "source": [
        "my_dict = {'hobbies'\n",
        "\"name\": \"John Doe\",           # String\n",
        "    \"age\": 28,                    # Number\n",
        "    \"hobbies\": [\"reading\", \"swimming\", \"coding\"],  # List of strings\n",
        "    \"scores\": [85, 90, 78],       # List of numbers\n",
        "    \"address\": {\n",
        "        \"city\": \"New York\",       # Nested dictionary with strings\n",
        "        \"zip_code\": 10001         # Number\n",
        "    },\n",
        "    \"graduated\": True,            # Boolean value\n",
        "    \"languages\": [\"English\", \"Spanish\"]  # List of strings\n",
        "}\n",
        "\n",
        "print(my_dict)"
      ],
      "metadata": {
        "id": "MjO6zeDrZiJ6",
        "colab": {
          "base_uri": "https://localhost:8080/"
        },
        "outputId": "4359e25d-be15-49cc-d786-2c10041dba7c"
      },
      "execution_count": 6,
      "outputs": [
        {
          "output_type": "stream",
          "name": "stdout",
          "text": [
            "{'hobbiesname': 'John Doe', 'age': 28, 'hobbies': ['reading', 'swimming', 'coding'], 'scores': [85, 90, 78], 'address': {'city': 'New York', 'zip_code': 10001}, 'graduated': True, 'languages': ['English', 'Spanish']}\n"
          ]
        }
      ]
    },
    {
      "cell_type": "code",
      "source": [
        "for hobby in my_dict['hobbies']:\n",
        "  print(hobby)"
      ],
      "metadata": {
        "colab": {
          "base_uri": "https://localhost:8080/"
        },
        "id": "oDAY67MIWmR7",
        "outputId": "80b92e65-cc35-4492-be5a-110eaf9992c0"
      },
      "execution_count": 7,
      "outputs": [
        {
          "output_type": "stream",
          "name": "stdout",
          "text": [
            "reading\n",
            "swimming\n",
            "coding\n"
          ]
        }
      ]
    },
    {
      "cell_type": "code",
      "source": [
        "for score in my_dict['scores']:\n",
        "  print(score)"
      ],
      "metadata": {
        "colab": {
          "base_uri": "https://localhost:8080/"
        },
        "id": "4NKWJNnwWvUc",
        "outputId": "87c0c41a-4d45-4959-d3dd-1bd89e3e07b8"
      },
      "execution_count": 8,
      "outputs": [
        {
          "output_type": "stream",
          "name": "stdout",
          "text": [
            "85\n",
            "90\n",
            "78\n"
          ]
        }
      ]
    },
    {
      "cell_type": "markdown",
      "source": [
        "# Task 1: Create a Python dictionary that represents your own profile.\n",
        "\n",
        "```python\n",
        "\n",
        "profile = {\n",
        "    \"name\": \"Your Name\",\n",
        "    \"age\": Your Age,\n",
        "    \"favorite_foods\": [\"Food1\", \"Food2\", \"Food3\"],  # List of your favorite foods\n",
        "    \"hobbies\": [\"Hobby1\", \"Hobby2\"],                # List of your hobbies\n",
        "    \"is_student\": True,                             # Boolean, are you a student?\n",
        "}\n",
        "\n",
        "# Print the profile\n",
        "print(profile)\n",
        "```"
      ],
      "metadata": {
        "id": "taDDrgn1V2CH"
      }
    },
    {
      "cell_type": "code",
      "source": [
        "# Create a dictionary with your own information\n",
        "profile = {\n",
        "    \"name\": \"Hannah\",\n",
        "    \"age\": 10,\n",
        "    \"favorite_foods\": [\"Ramen\", \"Tsuivan\", \"Lasagna\"],\n",
        "    \"hobbies\": [\"swimming\", \"biking\"],\n",
        "    \"is_student\": True,\n",
        "}\n",
        "print(profile)"
      ],
      "metadata": {
        "id": "piO-lpP6alPr",
        "outputId": "0cdea1c2-49a3-404a-c808-0c8dd7b149ed",
        "colab": {
          "base_uri": "https://localhost:8080/"
        }
      },
      "execution_count": 14,
      "outputs": [
        {
          "output_type": "stream",
          "name": "stdout",
          "text": [
            "{'name': 'Hannah', 'age': 10, 'favorite_foods': ['Ramen', 'Tsuivan', 'Lasagna'], 'hobbies': ['swimming', 'biking'], 'is_student': True}\n"
          ]
        }
      ]
    },
    {
      "cell_type": "code",
      "source": [
        "# Create a for loop and print your favorite foods\n",
        "for hobbies in profile['hobbies']:\n",
        "  print(hobbies)"
      ],
      "metadata": {
        "id": "V20qSQQMamy4",
        "outputId": "7f430662-b362-4d24-e070-86e3848d5845",
        "colab": {
          "base_uri": "https://localhost:8080/"
        }
      },
      "execution_count": 17,
      "outputs": [
        {
          "output_type": "stream",
          "name": "stdout",
          "text": [
            "swimming\n",
            "biking\n"
          ]
        }
      ]
    },
    {
      "cell_type": "code",
      "source": [
        "# Create a for loop and print your hobbies\n",
        "for favorite_foods in profile['favorite_foods']:\n",
        "  print(favorite_foods)"
      ],
      "metadata": {
        "id": "coNBvyZHVHEi",
        "outputId": "d6205054-360b-4023-99fb-ce199cb970ba",
        "colab": {
          "base_uri": "https://localhost:8080/"
        }
      },
      "execution_count": 21,
      "outputs": [
        {
          "output_type": "stream",
          "name": "stdout",
          "text": [
            "Ramen\n",
            "Tsuivan\n",
            "Lasagna\n"
          ]
        }
      ]
    },
    {
      "cell_type": "code",
      "source": [
        "append"
      ],
      "metadata": {
        "id": "eonmPrmDi3h6"
      },
      "execution_count": null,
      "outputs": []
    }
  ]
}